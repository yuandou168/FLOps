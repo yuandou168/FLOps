{
 "cells": [
  {
   "cell_type": "code",
   "execution_count": 2,
   "metadata": {},
   "outputs": [],
   "source": [
    "# Import necessary libraries\n",
    "import json\n",
    "from web3 import Web3\n",
    "from solcx import compile_standard, install_solc\n",
    "import solcx\n",
    "\n",
    "# Connect to the local Ethereum network (Ganache)\n",
    "w3 = Web3(Web3.HTTPProvider(\"http://127.0.0.1:7545\"))\n",
    "\n",
    "# Check if connection is successful\n",
    "if not w3.is_connected():\n",
    "    raise Exception(\"Failed to connect to the Ethereum network\")\n",
    "\n",
    "\n"
   ]
  },
  {
   "cell_type": "code",
   "execution_count": 3,
   "metadata": {},
   "outputs": [
    {
     "name": "stdout",
     "output_type": "stream",
     "text": [
      "0xd41d88454EF0C2A81b7d2B1229E2aAC779672721\n"
     ]
    }
   ],
   "source": [
    "# Set the default account (deployer)\n",
    "w3.eth.default_account = w3.eth.accounts[0]\n",
    "print(w3.eth.default_account)\n",
    "\n",
    "\n"
   ]
  },
  {
   "cell_type": "code",
   "execution_count": 4,
   "metadata": {},
   "outputs": [],
   "source": [
    "# Compile the contract using solcx\n",
    "solcx.install_solc('0.8.0')\n",
    "solcx.set_solc_version('0.8.0')\n",
    "\n",
    "# Path to your Solidity contract\n",
    "contract_path = \"./ProofOfReputation.sol\"\n",
    "  # Update this path to your contract\n",
    "\n",
    "# Compile the Solidity contract\n",
    "with open(contract_path, \"r\") as file:\n",
    "    contract_source_code = file.read()\n",
    "\n",
    "compiled_sol = solcx.compile_standard({\n",
    "    \"language\": \"Solidity\",\n",
    "    \"sources\": {\n",
    "        \"ProofOfReputation.sol\": {\n",
    "            \"content\": contract_source_code\n",
    "        }\n",
    "    },\n",
    "    \"settings\": {\n",
    "        \"outputSelection\": {\n",
    "            \"*\": {\n",
    "                \"*\": [\"abi\", \"metadata\", \"evm.bytecode\", \"evm.sourceMap\"]\n",
    "            }\n",
    "        }\n",
    "    }\n",
    "})\n",
    "\n",
    "# Extract ABI and bytecode\n",
    "abi = compiled_sol['contracts']['ProofOfReputation.sol']['ProofOfReputation']['abi']\n",
    "bytecode = compiled_sol['contracts']['ProofOfReputation.sol']['ProofOfReputation']['evm']['bytecode']['object']\n"
   ]
  },
  {
   "cell_type": "code",
   "execution_count": 5,
   "metadata": {},
   "outputs": [
    {
     "name": "stdout",
     "output_type": "stream",
     "text": [
      "Contract deployed at address: 0xC3C5157A27c4e419681d8901f2A10318aD6F6dce\n"
     ]
    }
   ],
   "source": [
    "# Deploy the contract\n",
    "ProofOfReputation = w3.eth.contract(abi=abi, bytecode=bytecode)\n",
    "\n",
    "# Deploy the contract and get the transaction hash\n",
    "tx_hash = ProofOfReputation.constructor().transact()\n",
    "tx_receipt = w3.eth.wait_for_transaction_receipt(tx_hash)\n",
    "contract_address = tx_receipt.contractAddress\n",
    "print(f\"Contract deployed at address: {contract_address}\")\n"
   ]
  },
  {
   "cell_type": "code",
   "execution_count": 6,
   "metadata": {},
   "outputs": [
    {
     "name": "stdout",
     "output_type": "stream",
     "text": [
      "Adding clients...\n",
      "Gas used for Adding client 0xc7c81e3F14829c1E7b4bDf8c118D12504f9fD7Fa: 174395\n",
      "Gas used for Adding client 0xaA739F8Bd0014fa6d83cB807944830782bA6940F: 129398\n",
      "Submitting jobs...\n",
      "Gas used for Client 0xc7c81e3F14829c1E7b4bDf8c118D12504f9fD7Fa submitting job: 129668\n",
      "Gas used for Client 0xaA739F8Bd0014fa6d83cB807944830782bA6940F submitting job: 95468\n",
      "Validating jobs...\n",
      "Gas used for Validating all jobs: 153473\n",
      "Updating reputation weights...\n",
      "Gas used for Updating weights: 51292\n",
      "Fetching reputations...\n",
      "Reputation of client 0xc7c81e3F14829c1E7b4bDf8c118D12504f9fD7Fa: 0\n",
      "Reputation of client 0xaA739F8Bd0014fa6d83cB807944830782bA6940F: 3\n"
     ]
    }
   ],
   "source": [
    "# Get the deployed contract instance\n",
    "deployed_contract = w3.eth.contract(address=contract_address, abi=abi)\n",
    "\n",
    "# Function to log gas used\n",
    "def log_gas_usage(tx_hash, action):\n",
    "    receipt = w3.eth.get_transaction_receipt(tx_hash)\n",
    "    print(f\"Gas used for {action}: {receipt.gasUsed}\")\n",
    "\n",
    "# Add a new client\n",
    "def add_client(client_address, initial_reputation):\n",
    "    tx_hash = deployed_contract.functions.addClient(client_address, initial_reputation).transact()\n",
    "    log_gas_usage(tx_hash, f\"Adding client {client_address}\")\n",
    "\n",
    "# Submit a job\n",
    "def submit_job(client_address, job_result):\n",
    "    tx_hash = deployed_contract.functions.submitJob(job_result).transact({'from': client_address})\n",
    "    log_gas_usage(tx_hash, f\"Client {client_address} submitting job\")\n",
    "\n",
    "# Validate all jobs\n",
    "def validate_all_jobs(validator_address):\n",
    "    tx_hash = deployed_contract.functions.validateAllJobs().transact({'from': validator_address})\n",
    "    log_gas_usage(tx_hash, \"Validating all jobs\")\n",
    "\n",
    "# Update weights\n",
    "def update_weights(weightH, weightT, weightC, weightP, weightV):\n",
    "    tx_hash = deployed_contract.functions.updateWeights(weightH, weightT, weightC, weightP, weightV).transact()\n",
    "    log_gas_usage(tx_hash, \"Updating weights\")\n",
    "\n",
    "# Example usage\n",
    "print(\"Adding clients...\")\n",
    "add_client(w3.eth.accounts[1], 100)\n",
    "add_client(w3.eth.accounts[2], 200)\n",
    "\n",
    "print(\"Submitting jobs...\")\n",
    "submit_job(w3.eth.accounts[1], \"Job 1 result\")\n",
    "submit_job(w3.eth.accounts[2], \"Job 2 result\")\n",
    "\n",
    "print(\"Validating jobs...\")\n",
    "current_validator = deployed_contract.functions.getCurrentValidator().call()\n",
    "validate_all_jobs(current_validator)\n",
    "\n",
    "print(\"Updating reputation weights...\")\n",
    "update_weights(10, 30, 20, 20, 20)\n",
    "\n",
    "# Fetching updated reputations\n",
    "def get_reputation(client_address):\n",
    "    reputation = deployed_contract.functions.getReputationScore(client_address).call()\n",
    "    print(f\"Reputation of client {client_address}: {reputation}\")\n",
    "\n",
    "print(\"Fetching reputations...\")\n",
    "get_reputation(w3.eth.accounts[1])\n",
    "get_reputation(w3.eth.accounts[2])"
   ]
  }
 ],
 "metadata": {
  "language_info": {
   "name": "python"
  }
 },
 "nbformat": 4,
 "nbformat_minor": 2
}
